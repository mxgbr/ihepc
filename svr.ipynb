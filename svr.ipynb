{
 "cells": [
  {
   "cell_type": "markdown",
   "metadata": {},
   "source": [
    "# Forecasting with Seasonal SVR\n",
    "This notebook contains time series preparation, grid search for SVR parameters, model fitting, model evaluation, forecasting and an accuracy metric"
   ]
  },
  {
   "cell_type": "code",
   "execution_count": 1,
   "metadata": {},
   "outputs": [],
   "source": [
    "# imports\n",
    "import pandas as pd\n",
    "import numpy as np\n",
    "from datetime import datetime\n",
    "import itertools\n",
    "\n",
    "from sklearn.preprocessing import MinMaxScaler\n",
    "from sklearn.svm import SVR\n",
    "\n",
    "import matplotlib.pyplot as plt"
   ]
  },
  {
   "cell_type": "code",
   "execution_count": 2,
   "metadata": {},
   "outputs": [],
   "source": [
    "# Constants\n",
    "\n",
    "# path to dataset\n",
    "PATH_CLEANED = 'data/data.pckl'\n",
    "\n",
    "# use this path for testing purpose (sine function with noise)\n",
    "#PATH_CLEANED = 'data/sine.pckl'\n",
    "\n",
    "# time span\n",
    "SPLIT = datetime(2010, 1, 1)\n",
    "\n",
    "# frequency and period length\n",
    "PERIOD = 'W'\n",
    "PERIOD_LEN = 52\n",
    "\n",
    "# differentiate time series\n",
    "DIFF = False"
   ]
  },
  {
   "cell_type": "markdown",
   "metadata": {},
   "source": [
    "### Loading and Preprocessing\n",
    "Load and resample"
   ]
  },
  {
   "cell_type": "code",
   "execution_count": 3,
   "metadata": {},
   "outputs": [
    {
     "data": {
      "text/plain": [
       "Datetime\n",
       "2006-12-17    2.505248\n",
       "2006-12-24    1.734186\n",
       "2006-12-31    1.958376\n",
       "2007-01-07    1.484233\n",
       "2007-01-14    1.604954\n",
       "Freq: W-SUN, Name: Global_active_power, dtype: float64"
      ]
     },
     "execution_count": 3,
     "metadata": {},
     "output_type": "execute_result"
    }
   ],
   "source": [
    "# load dataset\n",
    "data = pd.read_pickle(PATH_CLEANED)\n",
    "\n",
    "# resample time series\n",
    "ts = data['Global_active_power']\n",
    "ts = ts.resample(PERIOD).mean()\n",
    "\n",
    "# fill missing values with previous data\n",
    "ts = ts.fillna(method='ffill')\n",
    "ts.head()"
   ]
  },
  {
   "cell_type": "markdown",
   "metadata": {},
   "source": [
    "### Split for Model Testing\n",
    "Split ts in training series and evaluation series"
   ]
  },
  {
   "cell_type": "code",
   "execution_count": 4,
   "metadata": {},
   "outputs": [],
   "source": [
    "# split ts in train and test range\n",
    "ts_orig_train = ts[ts.index < SPLIT]\n",
    "ts_orig_test = ts[ts.index >= SPLIT]"
   ]
  },
  {
   "cell_type": "code",
   "execution_count": 5,
   "metadata": {},
   "outputs": [
    {
     "data": {
      "image/png": "[encoded data removed]",
      "text/plain": [
       "<Figure size 432x288 with 1 Axes>"
      ]
     },
     "metadata": {
      "needs_background": "light"
     },
     "output_type": "display_data"
    }
   ],
   "source": [
    "plt.plot(ts_orig_train)\n",
    "plt.plot(ts_orig_test)\n",
    "plt.show()"
   ]
  },
  {
   "cell_type": "markdown",
   "metadata": {},
   "source": [
    "### Extract Seasonal Component\n",
    "If DIFF == True, differenciate ts for the PERIOD_LEN interal. Removes seasonality from the series"
   ]
  },
  {
   "cell_type": "code",
   "execution_count": 6,
   "metadata": {},
   "outputs": [],
   "source": [
    "if DIFF == True:\n",
    "    # differenciate seasonally\n",
    "    ts_train = ts_orig_train.diff(periods=PERIOD_LEN).iloc[PERIOD_LEN:]\n",
    "else:\n",
    "    ts_train = ts_orig_train.copy()"
   ]
  },
  {
   "cell_type": "markdown",
   "metadata": {},
   "source": [
    "### Reshape\n",
    "Transform to the sklearn shape"
   ]
  },
  {
   "cell_type": "code",
   "execution_count": 7,
   "metadata": {},
   "outputs": [],
   "source": [
    "# reshape array to (n, 1) for sklearn models\n",
    "ts_train = ts_train.values\n",
    "ts_train = np.reshape(ts_train, (-1, 1))\n",
    "\n",
    "ts_test = ts_orig_test.values\n",
    "ts_test = np.reshape(ts_test, (-1, 1))"
   ]
  },
  {
   "cell_type": "markdown",
   "metadata": {},
   "source": [
    "### Grid Search\n",
    "Determine optimal parameters for the model by evaluation on sub-samples from the training set (expanding window). Sklearn's SVR model is not convenient for rolling window prediction, that is why it was modified to SVRRolling.\n",
    "\n",
    "Sklearn provides functions such as GridSearchCV and TimeSeriesSplit, which are unfortunately not applicable for the recursive forecasting in this case."
   ]
  },
  {
   "cell_type": "code",
   "execution_count": 8,
   "metadata": {},
   "outputs": [],
   "source": [
    "class SVRRolling(SVR):\n",
    "    '''\n",
    "    SVR extension for time series forecasting\n",
    "    \n",
    "    Parameters:\n",
    "        kernel (str): Kernel function\n",
    "        C (float): Regulaization parameter\n",
    "        epsilon (float): Width of epsilon tube\n",
    "        _window_size (int): Number of lags to be considered for rolling window\n",
    "        \n",
    "    Attributes:\n",
    "        _window_size (int): Number of lags to be considered for rolling window\n",
    "        \n",
    "    '''\n",
    "    \n",
    "    def __init__(self, kernel='rbf', C=1.0, epsilon=0.1, _window_size=30):\n",
    "        self._window_size = _window_size\n",
    "        super().__init__(kernel=kernel, C=C, epsilon=epsilon)\n",
    "        \n",
    "    def _roll_data(self, dataset, max_size=10):\n",
    "        start = np.empty((max_size,1))\n",
    "        start[:,:] = np.nan ## maybe better removing values in the first place!!\n",
    "        dataset = np.concatenate((start, dataset), axis=0)\n",
    "        X = []\n",
    "        for i in range(max_size, len(dataset)):\n",
    "            a = dataset[(i-max_size):i]#[::-1]\n",
    "            X.append(a)\n",
    "        return np.array(X)[:,:,0]\n",
    "        \n",
    "    def fit(self, X, y=None, **kwargs):\n",
    "        '''\n",
    "        Fits parameters to SVR model\n",
    "        \n",
    "        Rolls time series before fitting to the model\n",
    "        \n",
    "        Parameters:\n",
    "            X (np.array): ts values to be fitted, shape (num_samples, num_features)\n",
    "            y: void\n",
    "        '''\n",
    "        \n",
    "        self._y = X\n",
    "        y = X[self._window_size:,0]\n",
    "        X = self._roll_data(X, self._window_size)[self._window_size:]\n",
    "        return super().fit(X, y, **kwargs)\n",
    "        \n",
    "    def predict(self, X):\n",
    "        '''\n",
    "        Predicts values\n",
    "        \n",
    "        Parameters:\n",
    "            X (np.array): Test set, only needed to align with the sklearn api layout, not used for estimation\n",
    "            \n",
    "        Returns:\n",
    "            ts (np.array): Estimated values, shape (X.shape[0], 1)\n",
    "        '''\n",
    "        \n",
    "        # ignores the given X values and calculates from start point recursively\n",
    "        length = X.shape[0]\n",
    "        ts = self._y\n",
    "        for i in range(length):\n",
    "            a = ts[-self._window_size:]\n",
    "            ts = np.concatenate((ts, [super().predict(a.reshape(1, -1))]))        \n",
    "        return ts[-length:]"
   ]
  },
  {
   "cell_type": "code",
   "execution_count": 9,
   "metadata": {},
   "outputs": [
    {
     "name": "stdout",
     "output_type": "stream",
     "text": [
      "Evaluated on 29 tscv sets\n",
      "Best score: 0.10920691229130425\n",
      "SVRRolling(C=0.1, _window_size=35, epsilon=0.0001, kernel='rbf')\n"
     ]
    }
   ],
   "source": [
    "# manual grid search\n",
    "\n",
    "# define possible parameters here:\n",
    "params = {\n",
    "    'kernel' : ['linear', 'rbf'],\n",
    "    'C': [0.01, 0.1, 1], \n",
    "    'epsilon': [0.0001, 0.001, 0.01], \n",
    "    '_window_size': [10, 15, 20, 25, 30, 35, 40, 45, 50, 52]\n",
    "}\n",
    "\n",
    "# forecast horizon to be evaluated on\n",
    "horizon = len(ts_test)\n",
    "# step size for forward chaining\n",
    "step_size = 2\n",
    "\n",
    "keys, values = zip(*params.items())\n",
    "param_search = [dict(zip(keys, v)) for v in itertools.product(*values)]\n",
    "\n",
    "scaler = MinMaxScaler()\n",
    "\n",
    "# optimal model and score\n",
    "best_model = None\n",
    "best_score = None\n",
    "\n",
    "# create ts splits\n",
    "buffer = max(params['_window_size']) + 1\n",
    "splits = np.arange(buffer, len(ts_train) - horizon, step_size)\n",
    "tscv = [(np.arange(0, i), np.arange(i, i + horizon)) for i in splits]\n",
    "\n",
    "# loop over all param combinations\n",
    "for param in param_search:\n",
    "    \n",
    "    metric = []\n",
    "    \n",
    "    # loop over all ts splits\n",
    "    for train, test in tscv:\n",
    "        # scale training data (and test data for coparison)\n",
    "        X_train = scaler.fit_transform(ts_train[train])\n",
    "        X_test = scaler.transform(ts_train[test])\n",
    "        \n",
    "        # create SVM\n",
    "        model = SVRRolling(**param)\n",
    "        model.fit(X_train)\n",
    "        X_pred = model.predict(X_test)\n",
    "        \n",
    "        # evaluate with error metric\n",
    "        score = np.sqrt(((X_test - X_pred)**2).mean())\n",
    "        metric.append(score)\n",
    "    \n",
    "    # average metric for all ts splits\n",
    "    total_score = np.array(metric).mean()\n",
    "    if best_score is None:\n",
    "        best_score = total_score\n",
    "        best_model = model\n",
    "    elif best_score > total_score:\n",
    "        best_score = total_score\n",
    "        best_model = model\n",
    "\n",
    "print('Evaluated on {} tscv sets'.format(len(tscv)))\n",
    "print('Best score: {}'.format(best_score))\n",
    "print(best_model)"
   ]
  },
  {
   "cell_type": "markdown",
   "metadata": {},
   "source": [
    "### Predict"
   ]
  },
  {
   "cell_type": "code",
   "execution_count": 10,
   "metadata": {},
   "outputs": [],
   "source": [
    "# best fitting model from grid search\n",
    "best_model.fit(ts_train)\n",
    "ts_pred = best_model.predict(ts_test)[:,0]"
   ]
  },
  {
   "cell_type": "raw",
   "metadata": {},
   "source": [
    "# OR manual model if needed\n",
    "model = SVRRolling(C=0.1, _window_size=35, epsilon=0.01, kernel='rbf')\n",
    "model.fit(ts_train)\n",
    "ts_pred = model.predict(ts_test)[:,0]"
   ]
  },
  {
   "cell_type": "code",
   "execution_count": 11,
   "metadata": {},
   "outputs": [
    {
     "data": {
      "image/png": "[encoded data removed]",
      "text/plain": [
       "<Figure size 432x288 with 1 Axes>"
      ]
     },
     "metadata": {
      "needs_background": "light"
     },
     "output_type": "display_data"
    }
   ],
   "source": [
    "# show prediction\n",
    "plt.plot(ts_pred)\n",
    "plt.show()"
   ]
  },
  {
   "cell_type": "markdown",
   "metadata": {},
   "source": [
    "### Reverse TS Differencing\n",
    "Reverse the seasonal differencing to obtain absolute values"
   ]
  },
  {
   "cell_type": "code",
   "execution_count": 12,
   "metadata": {},
   "outputs": [],
   "source": [
    "if DIFF == True:\n",
    "    # pad with nans\n",
    "    nans = int(np.ceil(len(ts_pred)/PERIOD_LEN)*PERIOD_LEN - len(ts_pred))\n",
    "    ts_pred_temp = np.pad(ts_pred, (0, nans), mode='constant', constant_values=np.nan)\n",
    "    ts_pred_temp = ts_pred_temp.reshape(PERIOD_LEN, -1)\n",
    "    # add previous observations\n",
    "    ts_pred_temp = np.concatenate((np.reshape(ts_orig_train.values, (-1, 1))[-PERIOD_LEN:], ts_pred_temp), axis=1)\n",
    "    # reverse diff\n",
    "    ts_pred = ts_pred_temp.cumsum(axis=1)[:,1:]\n",
    "    # remove padded nans\n",
    "    ts_pred = ts_pred[~np.isnan(ts_pred)]\n",
    "\n",
    "# predicted series\n",
    "ts_pred = pd.Series(ts_pred, index=ts_orig_test.index)"
   ]
  },
  {
   "cell_type": "markdown",
   "metadata": {},
   "source": [
    "### Plot Series"
   ]
  },
  {
   "cell_type": "code",
   "execution_count": 13,
   "metadata": {},
   "outputs": [
    {
     "data": {
      "image/png": "[encoded data removed]",
      "text/plain": [
       "<Figure size 432x288 with 1 Axes>"
      ]
     },
     "metadata": {
      "needs_background": "light"
     },
     "output_type": "display_data"
    }
   ],
   "source": [
    "#plt.figure(figsize=(13.22, 4.8))\n",
    "ax = ts.plot(label='observed', c='k', linestyle='--')\n",
    "ts_pred.plot(ax=ax, label='forecast', c='k')\n",
    "ax.set_xlabel('Date')\n",
    "ax.set_ylabel('Global active power [kW]')\n",
    "plt.axvline(x=SPLIT, color='k', linestyle='--', c='gray')\n",
    "plt.xlim(left=pd.Timestamp(year=2009, month=7, day=1))\n",
    "plt.legend()\n",
    "plt.show()"
   ]
  },
  {
   "cell_type": "markdown",
   "metadata": {},
   "source": [
    "### Error Metric"
   ]
  },
  {
   "cell_type": "code",
   "execution_count": 14,
   "metadata": {},
   "outputs": [
    {
     "data": {
      "text/plain": [
       "0.16994623311141674"
      ]
     },
     "execution_count": 14,
     "metadata": {},
     "output_type": "execute_result"
    }
   ],
   "source": [
    "# calulate RMSE\n",
    "rmse = np.sqrt(((ts_orig_test.values - ts_pred)**2).mean())\n",
    "rmse"
   ]
  },
  {
   "cell_type": "code",
   "execution_count": 15,
   "metadata": {},
   "outputs": [
    {
     "data": {
      "text/plain": [
       "15.052552651351295"
      ]
     },
     "execution_count": 15,
     "metadata": {},
     "output_type": "execute_result"
    }
   ],
   "source": [
    "# calculate MAPE\n",
    "mape = np.mean(np.abs((ts_orig_test.values - ts_pred) / ts_orig_test.values)) * 100\n",
    "mape"
   ]
  },
  {
   "cell_type": "code",
   "execution_count": 16,
   "metadata": {},
   "outputs": [
    {
     "data": {
      "image/png": "[encoded data removed]",
      "text/plain": [
       "<Figure size 432x288 with 1 Axes>"
      ]
     },
     "metadata": {
      "needs_background": "light"
     },
     "output_type": "display_data"
    }
   ],
   "source": [
    "# error development\n",
    "rmse = []\n",
    "for t in range(len(ts_orig_test)):\n",
    "    rmse.append(np.sqrt(((ts_orig_test.values[:t] - ts_pred[:t])**2).mean()))\n",
    "plt.plot(np.arange(0, len(rmse)), rmse, c='k', linestyle=':', label='A')\n",
    "plt.legend()\n",
    "plt.ylabel('Aggregated Root Mean Squared Error')\n",
    "plt.xlabel('Forcasted Weeks')\n",
    "plt.show()"
   ]
  },
  {
   "cell_type": "code",
   "execution_count": null,
   "metadata": {},
   "outputs": [],
   "source": []
  }
 ],
 "metadata": {
  "kernelspec": {
   "display_name": "Python 3",
   "language": "python",
   "name": "python3"
  },
  "language_info": {
   "codemirror_mode": {
    "name": "ipython",
    "version": 3
   },
   "file_extension": ".py",
   "mimetype": "text/x-python",
   "name": "python",
   "nbconvert_exporter": "python",
   "pygments_lexer": "ipython3",
   "version": "3.7.7"
  }
 },
 "nbformat": 4,
 "nbformat_minor": 4
}
